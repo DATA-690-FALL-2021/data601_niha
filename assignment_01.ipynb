{
  "nbformat": 4,
  "nbformat_minor": 0,
  "metadata": {
    "colab": {
      "name": "Untitled0.ipynb",
      "provenance": [],
      "authorship_tag": "ABX9TyNxVewUx3wBulr1lWWoWcuz",
      "include_colab_link": true
    },
    "kernelspec": {
      "name": "python3",
      "display_name": "Python 3"
    },
    "language_info": {
      "name": "python"
    }
  },
  "cells": [
    {
      "cell_type": "markdown",
      "metadata": {
        "id": "view-in-github",
        "colab_type": "text"
      },
      "source": [
        "<a href=\"https://colab.research.google.com/github/NihaRGali/data601_niha/blob/main/assignment_01.ipynb\" target=\"_parent\"><img src=\"https://colab.research.google.com/assets/colab-badge.svg\" alt=\"Open In Colab\"/></a>"
      ]
    },
    {
      "cell_type": "code",
      "metadata": {
        "id": "RJRWd3bQcXhN"
      },
      "source": [
        ""
      ],
      "execution_count": null,
      "outputs": []
    },
    {
      "cell_type": "markdown",
      "metadata": {
        "id": "7FZUMeWncYux"
      },
      "source": [
        "Course grade Calculation"
      ]
    },
    {
      "cell_type": "code",
      "metadata": {
        "colab": {
          "base_uri": "https://localhost:8080/",
          "height": 129
        },
        "id": "FG7Tk_w2czHF",
        "outputId": "be724191-37c4-4e6d-acce-869fc4a4e3f7"
      },
      "source": [
        "n=30\n",
        "import random            #selecting random 10 assignments for grading\n",
        "randomassignmentlist = []\n",
        "for i in range(0,10):\n",
        "n = random.randint(1,10)\n",
        "randomassignmentlist.append(n)\n",
        "print(randomassignmentlist)          \n",
        "assignment=sum(randomassignmentlist)       #finding sum of all the assignments\n",
        "print(assignment)\n",
        "attendance =0    #initial attendance is zero\n",
        "for i in range(0:30)\n",
        "temp=  #add everyday attendance\n",
        "attendance= attendance+temp\n",
        "print(attendance)\n",
        "project = project1+project2+project3           #finding sum of all the projects\n",
        "coursegrade= 0.3*(assignment)+ 0.2*(project)+ 0.1*(attendance)\n",
        "if coursegrade>=97\n",
        "  print(A)\n",
        "elif  coursegrade>=97\n",
        "    print(A-)\n",
        "elif  coursegrade>=90\n",
        "  print(B+)\n",
        "elif  coursegrade>=87\n",
        "  print(B)\n",
        "elif  coursegrade>=84\n",
        "  print(B-)\n",
        "elif  coursegrade>=77\n",
        "  print(C+)\n",
        "elif  coursegrade>=74\n",
        "  print(C)\n",
        "elif  coursegrade>=70\n",
        "  print(C-)\n",
        "elif  coursegrade>=60\n",
        "  print(D)\n",
        "else print(F)"
      ],
      "execution_count": 1,
      "outputs": [
        {
          "output_type": "error",
          "ename": "IndentationError",
          "evalue": "ignored",
          "traceback": [
            "\u001b[0;36m  File \u001b[0;32m\"<ipython-input-1-9f111e90cea4>\"\u001b[0;36m, line \u001b[0;32m4\u001b[0m\n\u001b[0;31m    n = random.randint(1,30)\u001b[0m\n\u001b[0m    ^\u001b[0m\n\u001b[0;31mIndentationError\u001b[0m\u001b[0;31m:\u001b[0m expected an indented block\n"
          ]
        }
      ]
    }
  ]
}
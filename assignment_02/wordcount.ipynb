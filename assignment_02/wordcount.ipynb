{
  "nbformat": 4,
  "nbformat_minor": 0,
  "metadata": {
    "colab": {
      "name": "wordcount.ipynb",
      "provenance": [],
      "authorship_tag": "ABX9TyNxl2SNYz/Wb113qh0y9vnf",
      "include_colab_link": true
    },
    "kernelspec": {
      "name": "python3",
      "display_name": "Python 3"
    },
    "language_info": {
      "name": "python"
    }
  },
  "cells": [
    {
      "cell_type": "markdown",
      "metadata": {
        "id": "view-in-github",
        "colab_type": "text"
      },
      "source": [
        "<a href=\"https://colab.research.google.com/github/NihaRGali/data601_niha/blob/main/assignment_02/wordcount.ipynb\" target=\"_parent\"><img src=\"https://colab.research.google.com/assets/colab-badge.svg\" alt=\"Open In Colab\"/></a>"
      ]
    },
    {
      "cell_type": "markdown",
      "metadata": {
        "id": "PCqXVcr1wg_u"
      },
      "source": [
        "## Calculating count of words and characters in a string using function"
      ]
    },
    {
      "cell_type": "code",
      "metadata": {
        "colab": {
          "base_uri": "https://localhost:8080/"
        },
        "id": "56PGqlNLtC35",
        "outputId": "c8d35d31-09b3-4dc7-c53b-7fca72b3d1fc"
      },
      "source": [
        "def myfunc(inp):\n",
        "  mylis=inp.split(\" \")\n",
        "  return len(inp),len(mylis)\n",
        "try:\n",
        "  inp= input() \n",
        "  if not inp:\n",
        "    raise ValueError('It is an Exception It is an empty string')    \n",
        "except ValueError as e:\n",
        "  print(e)\n",
        "myfunc(inp)\n",
        "\n"
      ],
      "execution_count": 7,
      "outputs": [
        {
          "output_type": "stream",
          "name": "stdout",
          "text": [
            "\n",
            "It is an Exception It is an empty string\n"
          ]
        },
        {
          "output_type": "execute_result",
          "data": {
            "text/plain": [
              "(0, 1)"
            ]
          },
          "metadata": {},
          "execution_count": 7
        }
      ]
    },
    {
      "cell_type": "code",
      "metadata": {
        "id": "nJu1AopOuX6C"
      },
      "source": [
        ""
      ],
      "execution_count": null,
      "outputs": []
    }
  ]
}
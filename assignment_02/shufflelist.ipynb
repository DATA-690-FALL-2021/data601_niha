{
  "nbformat": 4,
  "nbformat_minor": 0,
  "metadata": {
    "colab": {
      "name": "shufflelist.ipynb",
      "provenance": [],
      "authorship_tag": "ABX9TyPH6Q4kMGB+ZR2W1CyZ0Opg",
      "include_colab_link": true
    },
    "kernelspec": {
      "name": "python3",
      "display_name": "Python 3"
    },
    "language_info": {
      "name": "python"
    }
  },
  "cells": [
    {
      "cell_type": "markdown",
      "metadata": {
        "id": "view-in-github",
        "colab_type": "text"
      },
      "source": [
        "<a href=\"https://colab.research.google.com/github/NihaRGali/data601_niha/blob/main/assignment_02/shufflelist.ipynb\" target=\"_parent\"><img src=\"https://colab.research.google.com/assets/colab-badge.svg\" alt=\"Open In Colab\"/></a>"
      ]
    },
    {
      "cell_type": "code",
      "metadata": {
        "id": "KGqBnGV8r6pr"
      },
      "source": [
        ""
      ],
      "execution_count": null,
      "outputs": []
    },
    {
      "cell_type": "markdown",
      "metadata": {
        "id": "QTJHKwt8sXdU"
      },
      "source": [
        "## Each element shifted right by one index"
      ]
    },
    {
      "cell_type": "code",
      "metadata": {
        "colab": {
          "base_uri": "https://localhost:8080/"
        },
        "id": "7wtDsPZ2sKW6",
        "outputId": "ea570a92-8fa6-4bfc-abdc-fd84ab5cb3a8"
      },
      "source": [
        "def myfunc(lis):\n",
        "  print(lis[-1:] +lis [:-1])\n",
        "list=[3,7,4,1]\n",
        "myfunc(list)"
      ],
      "execution_count": 1,
      "outputs": [
        {
          "output_type": "stream",
          "name": "stdout",
          "text": [
            "[1, 3, 7, 4]\n"
          ]
        }
      ]
    }
  ]
}
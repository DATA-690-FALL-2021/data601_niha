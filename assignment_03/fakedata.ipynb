{
  "nbformat": 4,
  "nbformat_minor": 0,
  "metadata": {
    "colab": {
      "name": "assignment_week3.ipynb",
      "provenance": [],
      "authorship_tag": "ABX9TyMxto2RKP7uSIl7d0hIhUV8",
      "include_colab_link": true
    },
    "kernelspec": {
      "name": "python3",
      "display_name": "Python 3"
    },
    "language_info": {
      "name": "python"
    }
  },
  "cells": [
    {
      "cell_type": "markdown",
      "metadata": {
        "id": "view-in-github",
        "colab_type": "text"
      },
      "source": [
        "<a href=\"https://colab.research.google.com/github/NihaRGali/data601_niha/blob/main/assignment_03/fakedata.ipynb\" target=\"_parent\"><img src=\"https://colab.research.google.com/assets/colab-badge.svg\" alt=\"Open In Colab\"/></a>"
      ]
    },
    {
      "cell_type": "code",
      "metadata": {
        "id": "QTgqgh3Vfh5l"
      },
      "source": [
        "#https://stackoverflow.com/questions/59231343/how-to-make-random-email-generator\n",
        "import random\n",
        "import string\n",
        "\n",
        "def gmail_address(char_num):\n",
        "       return ''.join(random.choice(string.ascii_letters) for _ in range(char_num))"
      ],
      "execution_count": 15,
      "outputs": []
    },
    {
      "cell_type": "code",
      "metadata": {
        "colab": {
          "base_uri": "https://localhost:8080/",
          "height": 35
        },
        "id": "lZ_xf4O1wXsR",
        "outputId": "a0c49cb8-759f-4ca1-9381-735b487d2c95"
      },
      "source": [
        "gmail(5)"
      ],
      "execution_count": 36,
      "outputs": [
        {
          "output_type": "execute_result",
          "data": {
            "application/vnd.google.colaboratory.intrinsic+json": {
              "type": "string"
            },
            "text/plain": [
              "'LJDOu'"
            ]
          },
          "metadata": {},
          "execution_count": 36
        }
      ]
    },
    {
      "cell_type": "code",
      "metadata": {
        "id": "XARepknlhHbL"
      },
      "source": [
        " #https://stackoverflow.com/questions/26226801/making-random-phone-number-xxx-xxx-xxxx\n",
        " def gen_phone():\n",
        "    first = str(random.randint(100,999))\n",
        "    second = str(random.randint(1,888)).zfill(3)\n",
        "\n",
        "    last = (str(random.randint(1,9998)).zfill(4))\n",
        "    while last in ['1111','2222','3333','4444','5555','6666','7777','8888']:\n",
        "        last = (str(random.randint(1,9998)).zfill(4))\n",
        "\n",
        "    return '{}-{}-{}'.format(first,second, last)"
      ],
      "execution_count": 2,
      "outputs": []
    },
    {
      "cell_type": "code",
      "metadata": {
        "colab": {
          "base_uri": "https://localhost:8080/",
          "height": 35
        },
        "id": "nqhadNWThtuw",
        "outputId": "45ae59f5-7f2a-42f7-de76-814d2406706b"
      },
      "source": [
        "gen_phone()"
      ],
      "execution_count": 3,
      "outputs": [
        {
          "output_type": "execute_result",
          "data": {
            "application/vnd.google.colaboratory.intrinsic+json": {
              "type": "string"
            },
            "text/plain": [
              "'768-250-4272'"
            ]
          },
          "metadata": {},
          "execution_count": 3
        }
      ]
    },
    {
      "cell_type": "code",
      "metadata": {
        "colab": {
          "base_uri": "https://localhost:8080/"
        },
        "id": "5y3rXyyghw46",
        "outputId": "c78c604e-0d4f-4aa2-814f-e3286c7fdcb3"
      },
      "source": [
        "!pip install Faker"
      ],
      "execution_count": 4,
      "outputs": [
        {
          "output_type": "stream",
          "name": "stdout",
          "text": [
            "Collecting Faker\n",
            "  Downloading Faker-8.13.2-py3-none-any.whl (1.2 MB)\n",
            "\u001b[K     |████████████████████████████████| 1.2 MB 5.1 MB/s \n",
            "\u001b[?25hRequirement already satisfied: python-dateutil>=2.4 in /usr/local/lib/python3.7/dist-packages (from Faker) (2.8.2)\n",
            "Requirement already satisfied: text-unidecode==1.3 in /usr/local/lib/python3.7/dist-packages (from Faker) (1.3)\n",
            "Requirement already satisfied: six>=1.5 in /usr/local/lib/python3.7/dist-packages (from python-dateutil>=2.4->Faker) (1.15.0)\n",
            "Installing collected packages: Faker\n",
            "Successfully installed Faker-8.13.2\n"
          ]
        }
      ]
    },
    {
      "cell_type": "code",
      "metadata": {
        "id": "2YhJT4Gxj4S-"
      },
      "source": [
        "def rand_add():\n",
        "  from faker import Faker\n",
        "  faker = Faker()\n",
        "  return faker.address()"
      ],
      "execution_count": 38,
      "outputs": []
    },
    {
      "cell_type": "code",
      "metadata": {
        "colab": {
          "base_uri": "https://localhost:8080/",
          "height": 35
        },
        "id": "-G9cj7ozkYma",
        "outputId": "3224dc60-8f8c-49b4-c840-8633e947876c"
      },
      "source": [
        ""
      ],
      "execution_count": 6,
      "outputs": [
        {
          "output_type": "execute_result",
          "data": {
            "application/vnd.google.colaboratory.intrinsic+json": {
              "type": "string"
            },
            "text/plain": [
              "'Unit 3618 Box 9878\\nDPO AE 01902'"
            ]
          },
          "metadata": {},
          "execution_count": 6
        }
      ]
    },
    {
      "cell_type": "code",
      "metadata": {
        "colab": {
          "base_uri": "https://localhost:8080/"
        },
        "id": "iLErd2LHkcV4",
        "outputId": "a7576536-88dc-48fa-9fd7-a837924a1c61"
      },
      "source": [
        "!pip install names"
      ],
      "execution_count": 7,
      "outputs": [
        {
          "output_type": "stream",
          "name": "stdout",
          "text": [
            "Collecting names\n",
            "  Downloading names-0.3.0.tar.gz (789 kB)\n",
            "\u001b[K     |████████████████████████████████| 789 kB 5.2 MB/s \n",
            "\u001b[?25hBuilding wheels for collected packages: names\n",
            "  Building wheel for names (setup.py) ... \u001b[?25l\u001b[?25hdone\n",
            "  Created wheel for names: filename=names-0.3.0-py3-none-any.whl size=803698 sha256=224cdc773308554b3061ba8d412f2df0da47e85d3dc5cb87783a626cf4353e12\n",
            "  Stored in directory: /root/.cache/pip/wheels/05/ea/68/92f6b0669e478af9b7c3c524520d03050089e034edcc775c2b\n",
            "Successfully built names\n",
            "Installing collected packages: names\n",
            "Successfully installed names-0.3.0\n"
          ]
        }
      ]
    },
    {
      "cell_type": "code",
      "metadata": {
        "id": "IU7BjSzCk9tN"
      },
      "source": [
        "def name():\n",
        "  import names\n",
        "  return names.get_full_name()"
      ],
      "execution_count": 39,
      "outputs": []
    },
    {
      "cell_type": "code",
      "metadata": {
        "id": "0TE2dTKelOuo"
      },
      "source": [
        "def year():\n",
        "  from random import randrange\n",
        "  return randrange(1970,2022,1)"
      ],
      "execution_count": 40,
      "outputs": []
    },
    {
      "cell_type": "code",
      "metadata": {
        "id": "kGSrlok5ntz4"
      },
      "source": [
        "def children():\n",
        "  from random import randrange\n",
        "  return randrange(0,6,1)"
      ],
      "execution_count": 41,
      "outputs": []
    },
    {
      "cell_type": "code",
      "metadata": {
        "id": "Yj3IZd9NnvNP"
      },
      "source": [
        "def cat_val():\n",
        "  from random import choice\n",
        "  answer = choice(['rent', 'own'])\n",
        "  return answer"
      ],
      "execution_count": 42,
      "outputs": []
    },
    {
      "cell_type": "code",
      "metadata": {
        "id": "RMWLNPBlo4mx"
      },
      "source": [
        "def work(n):\n",
        "  import pandas as pd\n",
        "  df=pd.DataFrame(columns=['Gmail','Phone No','Address','Names','Year','Children','Cat_Values'])\n",
        "  for i in range(n):\n",
        "    df = df.append({'Gmail': gmail(8)+\"@gmail.com\",\n",
        "                    'Phone No': gen_phone(),\n",
        "                    'Address': rand_add(),\n",
        "                    'Names': name(),\n",
        "                    'Year': year(),\n",
        "                    'Children': children(),\n",
        "                    'Cat_Values': cat_val()}, ignore_index=True)\n",
        "  return df"
      ],
      "execution_count": 33,
      "outputs": []
    },
    {
      "cell_type": "code",
      "metadata": {
        "colab": {
          "base_uri": "https://localhost:8080/",
          "height": 204
        },
        "id": "GP7bwBHEvRPE",
        "outputId": "50c85d4a-5323-49e7-ca90-fc3d8ca0b6e6"
      },
      "source": [
        "work(5)"
      ],
      "execution_count": 34,
      "outputs": [
        {
          "output_type": "execute_result",
          "data": {
            "text/html": [
              "<div>\n",
              "<style scoped>\n",
              "    .dataframe tbody tr th:only-of-type {\n",
              "        vertical-align: middle;\n",
              "    }\n",
              "\n",
              "    .dataframe tbody tr th {\n",
              "        vertical-align: top;\n",
              "    }\n",
              "\n",
              "    .dataframe thead th {\n",
              "        text-align: right;\n",
              "    }\n",
              "</style>\n",
              "<table border=\"1\" class=\"dataframe\">\n",
              "  <thead>\n",
              "    <tr style=\"text-align: right;\">\n",
              "      <th></th>\n",
              "      <th>Gmail</th>\n",
              "      <th>Phone No</th>\n",
              "      <th>Address</th>\n",
              "      <th>Names</th>\n",
              "      <th>Year</th>\n",
              "      <th>Children</th>\n",
              "      <th>Cat_Values</th>\n",
              "    </tr>\n",
              "  </thead>\n",
              "  <tbody>\n",
              "    <tr>\n",
              "      <th>0</th>\n",
              "      <td>EszskOug@gmail.com</td>\n",
              "      <td>480-624-0871</td>\n",
              "      <td>5440 Nelson Parks\\nHenryfurt, KS 55629</td>\n",
              "      <td>Richard Huff</td>\n",
              "      <td>1989</td>\n",
              "      <td>3</td>\n",
              "      <td>rent</td>\n",
              "    </tr>\n",
              "    <tr>\n",
              "      <th>1</th>\n",
              "      <td>GLLudssq@gmail.com</td>\n",
              "      <td>996-352-1512</td>\n",
              "      <td>621 Melissa Light Apt. 535\\nNew Vincent, KY 77002</td>\n",
              "      <td>Eunice Husseini</td>\n",
              "      <td>2015</td>\n",
              "      <td>3</td>\n",
              "      <td>rent</td>\n",
              "    </tr>\n",
              "    <tr>\n",
              "      <th>2</th>\n",
              "      <td>uwmDmUXI@gmail.com</td>\n",
              "      <td>688-378-5188</td>\n",
              "      <td>0209 Robin Stream\\nOrtizburgh, FL 37891</td>\n",
              "      <td>Glenda Jacobsen</td>\n",
              "      <td>1978</td>\n",
              "      <td>5</td>\n",
              "      <td>own</td>\n",
              "    </tr>\n",
              "    <tr>\n",
              "      <th>3</th>\n",
              "      <td>DftiMDLV@gmail.com</td>\n",
              "      <td>783-076-7730</td>\n",
              "      <td>8872 Bullock Meadow\\nMoranhaven, NH 83506</td>\n",
              "      <td>Theodore Garceau</td>\n",
              "      <td>1979</td>\n",
              "      <td>1</td>\n",
              "      <td>own</td>\n",
              "    </tr>\n",
              "    <tr>\n",
              "      <th>4</th>\n",
              "      <td>aqvYyByW@gmail.com</td>\n",
              "      <td>738-746-9483</td>\n",
              "      <td>556 Todd Knoll Apt. 413\\nNorth Brian, SC 79176</td>\n",
              "      <td>Robert Lesko</td>\n",
              "      <td>1983</td>\n",
              "      <td>2</td>\n",
              "      <td>own</td>\n",
              "    </tr>\n",
              "  </tbody>\n",
              "</table>\n",
              "</div>"
            ],
            "text/plain": [
              "                Gmail      Phone No  ... Children Cat_Values\n",
              "0  EszskOug@gmail.com  480-624-0871  ...        3       rent\n",
              "1  GLLudssq@gmail.com  996-352-1512  ...        3       rent\n",
              "2  uwmDmUXI@gmail.com  688-378-5188  ...        5        own\n",
              "3  DftiMDLV@gmail.com  783-076-7730  ...        1        own\n",
              "4  aqvYyByW@gmail.com  738-746-9483  ...        2        own\n",
              "\n",
              "[5 rows x 7 columns]"
            ]
          },
          "metadata": {},
          "execution_count": 34
        }
      ]
    },
    {
      "cell_type": "code",
      "metadata": {
        "id": "9esZsXJnvjUT"
      },
      "source": [
        ""
      ],
      "execution_count": null,
      "outputs": []
    }
  ]
}